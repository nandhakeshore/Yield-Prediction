{
 "cells": [
  {
   "cell_type": "code",
   "execution_count": 1,
   "metadata": {},
   "outputs": [],
   "source": [
    "import numpy as np\n",
    "from matplotlib import pyplot as plt\n",
    "import matplotlib.patches as mpatches\n",
    "import pandas as pd\n",
    "import seaborn as sn\n",
    "from sklearn.model_selection import cross_val_score,train_test_split\n",
    "from sklearn.ensemble import RandomForestRegressor\n",
    "from sklearn.pipeline import Pipeline\n",
    "from sklearn.impute import SimpleImputer\n",
    "from sklearn.metrics import r2_score,mean_absolute_error, mean_squared_error\n",
    "from sklearn.preprocessing import StandardScaler\n",
    "%matplotlib inline"
   ]
  },
  {
   "cell_type": "code",
   "execution_count": 3,
   "metadata": {},
   "outputs": [],
   "source": [
    "# open a file containing descriptors and yield\n",
    "data = pd.read_csv(\"Descriptor_and_yield_table.csv\")\n",
    "X_data = data.drop(['yield'], axis =1) # the 120 descriptors and their values\n",
    "y_data = data['yield'] # Yield of the 3560 rows is stored in the y_data variable"
   ]
  },
  {
   "cell_type": "code",
   "execution_count": 4,
   "metadata": {
    "scrolled": true
   },
   "outputs": [
    {
     "data": {
      "text/html": [
       "<div>\n",
       "<style scoped>\n",
       "    .dataframe tbody tr th:only-of-type {\n",
       "        vertical-align: middle;\n",
       "    }\n",
       "\n",
       "    .dataframe tbody tr th {\n",
       "        vertical-align: top;\n",
       "    }\n",
       "\n",
       "    .dataframe thead th {\n",
       "        text-align: right;\n",
       "    }\n",
       "</style>\n",
       "<table border=\"1\" class=\"dataframe\">\n",
       "  <thead>\n",
       "    <tr style=\"text-align: right;\">\n",
       "      <th></th>\n",
       "      <th>Unnamed: 0</th>\n",
       "      <th>additive_*C3_NMR_shift</th>\n",
       "      <th>additive_*C3_electrostatic_charge</th>\n",
       "      <th>additive_*C4_NMR_shift</th>\n",
       "      <th>additive_*C4_electrostatic_charge</th>\n",
       "      <th>additive_*C5_NMR_shift</th>\n",
       "      <th>additive_*C5_electrostatic_charge</th>\n",
       "      <th>additive_*N1_electrostatic_charge</th>\n",
       "      <th>additive_*O1_electrostatic_charge</th>\n",
       "      <th>additive_E_HOMO</th>\n",
       "      <th>...</th>\n",
       "      <th>ligand_V6_frequency</th>\n",
       "      <th>ligand_V6_intensity</th>\n",
       "      <th>ligand_V7_frequency</th>\n",
       "      <th>ligand_V7_intensity</th>\n",
       "      <th>ligand_V8_frequency</th>\n",
       "      <th>ligand_V8_intensity</th>\n",
       "      <th>ligand_V9_frequency</th>\n",
       "      <th>ligand_V9_intensity</th>\n",
       "      <th>ligand_dipole_moment</th>\n",
       "      <th>yield</th>\n",
       "    </tr>\n",
       "  </thead>\n",
       "  <tbody>\n",
       "    <tr>\n",
       "      <th>0</th>\n",
       "      <td>1</td>\n",
       "      <td>143.12</td>\n",
       "      <td>0.223</td>\n",
       "      <td>93.06</td>\n",
       "      <td>-0.447</td>\n",
       "      <td>162.34</td>\n",
       "      <td>0.292</td>\n",
       "      <td>-0.334</td>\n",
       "      <td>-0.057</td>\n",
       "      <td>-0.2317</td>\n",
       "      <td>...</td>\n",
       "      <td>1640.307</td>\n",
       "      <td>4.414</td>\n",
       "      <td>3026.561</td>\n",
       "      <td>16.577</td>\n",
       "      <td>3043.097</td>\n",
       "      <td>18.145</td>\n",
       "      <td>3064.344</td>\n",
       "      <td>38.21</td>\n",
       "      <td>1.212924</td>\n",
       "      <td>10.657812</td>\n",
       "    </tr>\n",
       "    <tr>\n",
       "      <th>1</th>\n",
       "      <td>2</td>\n",
       "      <td>143.12</td>\n",
       "      <td>0.223</td>\n",
       "      <td>93.06</td>\n",
       "      <td>-0.447</td>\n",
       "      <td>162.34</td>\n",
       "      <td>0.292</td>\n",
       "      <td>-0.334</td>\n",
       "      <td>-0.057</td>\n",
       "      <td>-0.2317</td>\n",
       "      <td>...</td>\n",
       "      <td>1640.307</td>\n",
       "      <td>4.414</td>\n",
       "      <td>3026.561</td>\n",
       "      <td>16.577</td>\n",
       "      <td>3043.097</td>\n",
       "      <td>18.145</td>\n",
       "      <td>3064.344</td>\n",
       "      <td>38.21</td>\n",
       "      <td>1.212924</td>\n",
       "      <td>14.747896</td>\n",
       "    </tr>\n",
       "    <tr>\n",
       "      <th>2</th>\n",
       "      <td>3</td>\n",
       "      <td>143.12</td>\n",
       "      <td>0.223</td>\n",
       "      <td>93.06</td>\n",
       "      <td>-0.447</td>\n",
       "      <td>162.34</td>\n",
       "      <td>0.292</td>\n",
       "      <td>-0.334</td>\n",
       "      <td>-0.057</td>\n",
       "      <td>-0.2317</td>\n",
       "      <td>...</td>\n",
       "      <td>1640.307</td>\n",
       "      <td>4.414</td>\n",
       "      <td>3026.561</td>\n",
       "      <td>16.577</td>\n",
       "      <td>3043.097</td>\n",
       "      <td>18.145</td>\n",
       "      <td>3064.344</td>\n",
       "      <td>38.21</td>\n",
       "      <td>1.212924</td>\n",
       "      <td>18.278686</td>\n",
       "    </tr>\n",
       "    <tr>\n",
       "      <th>3</th>\n",
       "      <td>4</td>\n",
       "      <td>143.12</td>\n",
       "      <td>0.223</td>\n",
       "      <td>93.06</td>\n",
       "      <td>-0.447</td>\n",
       "      <td>162.34</td>\n",
       "      <td>0.292</td>\n",
       "      <td>-0.334</td>\n",
       "      <td>-0.057</td>\n",
       "      <td>-0.2317</td>\n",
       "      <td>...</td>\n",
       "      <td>1640.307</td>\n",
       "      <td>4.414</td>\n",
       "      <td>3026.561</td>\n",
       "      <td>16.577</td>\n",
       "      <td>3043.097</td>\n",
       "      <td>18.145</td>\n",
       "      <td>3064.344</td>\n",
       "      <td>38.21</td>\n",
       "      <td>1.212924</td>\n",
       "      <td>2.475058</td>\n",
       "    </tr>\n",
       "    <tr>\n",
       "      <th>4</th>\n",
       "      <td>5</td>\n",
       "      <td>143.12</td>\n",
       "      <td>0.223</td>\n",
       "      <td>93.06</td>\n",
       "      <td>-0.447</td>\n",
       "      <td>162.34</td>\n",
       "      <td>0.292</td>\n",
       "      <td>-0.334</td>\n",
       "      <td>-0.057</td>\n",
       "      <td>-0.2317</td>\n",
       "      <td>...</td>\n",
       "      <td>1640.307</td>\n",
       "      <td>4.414</td>\n",
       "      <td>3026.561</td>\n",
       "      <td>16.577</td>\n",
       "      <td>3043.097</td>\n",
       "      <td>18.145</td>\n",
       "      <td>3064.344</td>\n",
       "      <td>38.21</td>\n",
       "      <td>1.212924</td>\n",
       "      <td>6.119058</td>\n",
       "    </tr>\n",
       "  </tbody>\n",
       "</table>\n",
       "<p>5 rows × 122 columns</p>\n",
       "</div>"
      ],
      "text/plain": [
       "   Unnamed: 0  additive_*C3_NMR_shift  additive_*C3_electrostatic_charge  \\\n",
       "0           1                  143.12                              0.223   \n",
       "1           2                  143.12                              0.223   \n",
       "2           3                  143.12                              0.223   \n",
       "3           4                  143.12                              0.223   \n",
       "4           5                  143.12                              0.223   \n",
       "\n",
       "   additive_*C4_NMR_shift  additive_*C4_electrostatic_charge  \\\n",
       "0                   93.06                             -0.447   \n",
       "1                   93.06                             -0.447   \n",
       "2                   93.06                             -0.447   \n",
       "3                   93.06                             -0.447   \n",
       "4                   93.06                             -0.447   \n",
       "\n",
       "   additive_*C5_NMR_shift  additive_*C5_electrostatic_charge  \\\n",
       "0                  162.34                              0.292   \n",
       "1                  162.34                              0.292   \n",
       "2                  162.34                              0.292   \n",
       "3                  162.34                              0.292   \n",
       "4                  162.34                              0.292   \n",
       "\n",
       "   additive_*N1_electrostatic_charge  additive_*O1_electrostatic_charge  \\\n",
       "0                             -0.334                             -0.057   \n",
       "1                             -0.334                             -0.057   \n",
       "2                             -0.334                             -0.057   \n",
       "3                             -0.334                             -0.057   \n",
       "4                             -0.334                             -0.057   \n",
       "\n",
       "   additive_E_HOMO  ...  ligand_V6_frequency  ligand_V6_intensity  \\\n",
       "0          -0.2317  ...             1640.307                4.414   \n",
       "1          -0.2317  ...             1640.307                4.414   \n",
       "2          -0.2317  ...             1640.307                4.414   \n",
       "3          -0.2317  ...             1640.307                4.414   \n",
       "4          -0.2317  ...             1640.307                4.414   \n",
       "\n",
       "   ligand_V7_frequency  ligand_V7_intensity  ligand_V8_frequency  \\\n",
       "0             3026.561               16.577             3043.097   \n",
       "1             3026.561               16.577             3043.097   \n",
       "2             3026.561               16.577             3043.097   \n",
       "3             3026.561               16.577             3043.097   \n",
       "4             3026.561               16.577             3043.097   \n",
       "\n",
       "   ligand_V8_intensity  ligand_V9_frequency  ligand_V9_intensity  \\\n",
       "0               18.145             3064.344                38.21   \n",
       "1               18.145             3064.344                38.21   \n",
       "2               18.145             3064.344                38.21   \n",
       "3               18.145             3064.344                38.21   \n",
       "4               18.145             3064.344                38.21   \n",
       "\n",
       "   ligand_dipole_moment      yield  \n",
       "0              1.212924  10.657812  \n",
       "1              1.212924  14.747896  \n",
       "2              1.212924  18.278686  \n",
       "3              1.212924   2.475058  \n",
       "4              1.212924   6.119058  \n",
       "\n",
       "[5 rows x 122 columns]"
      ]
     },
     "execution_count": 4,
     "metadata": {},
     "output_type": "execute_result"
    }
   ],
   "source": [
    "data.head()"
   ]
  },
  {
   "cell_type": "code",
   "execution_count": null,
   "metadata": {},
   "outputs": [],
   "source": []
  },
  {
   "cell_type": "markdown",
   "metadata": {},
   "source": [
    "#### RandomForestRegressor"
   ]
  },
  {
   "cell_type": "code",
   "execution_count": 5,
   "metadata": {},
   "outputs": [],
   "source": [
    "X_train, X_valid, y_train, y_valid = train_test_split(X_data, y_data,test_size = 0.3, random_state=1)\n",
    "rf = RandomForestRegressor(n_estimators=500, random_state=1)"
   ]
  },
  {
   "cell_type": "code",
   "execution_count": 6,
   "metadata": {},
   "outputs": [],
   "source": [
    "# Data preprocessing\n",
    "pipe = Pipeline(steps=[\n",
    "        ('scale', StandardScaler()),\n",
    "        ('preprocessor', SimpleImputer()),\n",
    "        ('model', rf)])"
   ]
  },
  {
   "cell_type": "code",
   "execution_count": 7,
   "metadata": {},
   "outputs": [],
   "source": [
    "# Model Training and prediction\n",
    "pipe.fit(X_train,y_train) # training using 70% of the data\n",
    "predicted_yield = pipe.predict(X_valid) # predicting yield for 30% of the data"
   ]
  },
  {
   "cell_type": "code",
   "execution_count": 9,
   "metadata": {},
   "outputs": [
    {
     "data": {
      "text/plain": [
       "0.9875960322857106"
      ]
     },
     "execution_count": 9,
     "metadata": {},
     "output_type": "execute_result"
    }
   ],
   "source": [
    "pipe.score(X_train,y_train)"
   ]
  },
  {
   "cell_type": "code",
   "execution_count": 8,
   "metadata": {},
   "outputs": [
    {
     "name": "stdout",
     "output_type": "stream",
     "text": [
      "rmse: 7.804035196440268\n"
     ]
    }
   ],
   "source": [
    "# Model accuracy using root mean square error \n",
    "rmse = np.sqrt(mean_squared_error(y_valid, predicted_yield )) \n",
    "print('rmse:', rmse)"
   ]
  },
  {
   "cell_type": "code",
   "execution_count": 10,
   "metadata": {},
   "outputs": [
    {
     "name": "stdout",
     "output_type": "stream",
     "text": [
      "R^2: 0.9211460824649376\n"
     ]
    }
   ],
   "source": [
    "# R^2 (coefficient of determination) regression score function: \n",
    "R2 =r2_score(y_valid, predicted_yield )\n",
    "print('R^2:', R2)"
   ]
  },
  {
   "cell_type": "code",
   "execution_count": 11,
   "metadata": {
    "scrolled": true
   },
   "outputs": [
    {
     "data": {
      "text/plain": [
       "<matplotlib.legend.Legend at 0x1224e45b1c0>"
      ]
     },
     "execution_count": 11,
     "metadata": {},
     "output_type": "execute_result"
    },
    {
     "data": {
      "image/png": "[encoded data removed]",
      "text/plain": [
       "<Figure size 432x288 with 1 Axes>"
      ]
     },
     "metadata": {
      "needs_background": "light"
     },
     "output_type": "display_data"
    }
   ],
   "source": [
    "sn.regplot(x=predicted_yield , y=y_valid)\n",
    "plt.xlabel('Predicted Yield', color='blue')\n",
    "plt.ylabel('Observed Yield', color ='blue')\n",
    "plt.title(\"Random Forest\", color='red')\n",
    "plt.grid(alpha=0.2)\n",
    "R2 = mpatches.Patch(label=\"R2={:04.2f}\".format(R2))\n",
    "rmse = mpatches.Patch(label=\"RMSE={:04.2f}\".format(rmse))\n",
    "plt.legend(handles=[R2, rmse])"
   ]
  },
  {
   "cell_type": "code",
   "execution_count": null,
   "metadata": {},
   "outputs": [],
   "source": []
  },
  {
   "cell_type": "markdown",
   "metadata": {},
   "source": [
    "#### XGBoost "
   ]
  },
  {
   "cell_type": "code",
   "execution_count": 16,
   "metadata": {},
   "outputs": [],
   "source": [
    "from xgboost import XGBRegressor\n",
    "xgb = XGBRegressor(n_estimators=500, random_state=42)"
   ]
  },
  {
   "cell_type": "code",
   "execution_count": 17,
   "metadata": {},
   "outputs": [],
   "source": [
    "pipe2 = Pipeline(steps=[\n",
    "        ('scale', StandardScaler()),\n",
    "        ('preprocessor', SimpleImputer()),\n",
    "        ('model', xgb)])"
   ]
  },
  {
   "cell_type": "code",
   "execution_count": 18,
   "metadata": {},
   "outputs": [],
   "source": [
    "# Model Training and prediction\n",
    "pipe2.fit(X_train,y_train) # training using 70% of the data\n",
    "predicted_yield2 = pipe2.predict(X_valid) # predicting yield for 30% of the data"
   ]
  },
  {
   "cell_type": "code",
   "execution_count": 19,
   "metadata": {},
   "outputs": [
    {
     "data": {
      "text/plain": [
       "0.9999244395396787"
      ]
     },
     "execution_count": 19,
     "metadata": {},
     "output_type": "execute_result"
    }
   ],
   "source": [
    "pipe2.score(X_train,y_train)"
   ]
  },
  {
   "cell_type": "code",
   "execution_count": 20,
   "metadata": {},
   "outputs": [
    {
     "name": "stdout",
     "output_type": "stream",
     "text": [
      "rmse: 7.316959262420068\n"
     ]
    }
   ],
   "source": [
    "# Model accuracy using root mean square error \n",
    "rmse2 = np.sqrt(mean_squared_error(y_valid, predicted_yield2))  \n",
    "print('rmse:', rmse2)"
   ]
  },
  {
   "cell_type": "code",
   "execution_count": 21,
   "metadata": {},
   "outputs": [
    {
     "name": "stdout",
     "output_type": "stream",
     "text": [
      "R^2: 0.9306819862783721\n"
     ]
    }
   ],
   "source": [
    "# R^2 (coefficient of determination) regression score function: \n",
    "R_2 =r2_score(y_valid, predicted_yield2)\n",
    "print('R^2:', R_2)"
   ]
  },
  {
   "cell_type": "code",
   "execution_count": 22,
   "metadata": {},
   "outputs": [
    {
     "data": {
      "text/plain": [
       "<matplotlib.legend.Legend at 0x12258b3b220>"
      ]
     },
     "execution_count": 22,
     "metadata": {},
     "output_type": "execute_result"
    },
    {
     "data": {
      "image/png": "[encoded data removed]",
      "text/plain": [
       "<Figure size 432x288 with 1 Axes>"
      ]
     },
     "metadata": {
      "needs_background": "light"
     },
     "output_type": "display_data"
    }
   ],
   "source": [
    "sn.regplot(x=predicted_yield2, y=y_valid)\n",
    "plt.xlabel('Predicted Yield', color='blue')\n",
    "plt.ylabel('Observed Yield', color ='blue')\n",
    "plt.title(\"XGBoost\", color='red')\n",
    "plt.grid(alpha=0.2)\n",
    "R_2 = mpatches.Patch(label=\"R2={:04.2f}\".format(R_2))\n",
    "rmse2 = mpatches.Patch(label=\"RMSE={:04.2f}\".format(rmse2))\n",
    "plt.legend(handles=[R_2, rmse2])"
   ]
  },
  {
   "cell_type": "code",
   "execution_count": null,
   "metadata": {},
   "outputs": [],
   "source": []
  },
  {
   "cell_type": "markdown",
   "metadata": {},
   "source": [
    "#### GradientBoosting"
   ]
  },
  {
   "cell_type": "code",
   "execution_count": 23,
   "metadata": {},
   "outputs": [],
   "source": [
    "from sklearn.ensemble import GradientBoostingRegressor"
   ]
  },
  {
   "cell_type": "code",
   "execution_count": 24,
   "metadata": {},
   "outputs": [],
   "source": [
    "gb = GradientBoostingRegressor(n_estimators=500, random_state=0)"
   ]
  },
  {
   "cell_type": "code",
   "execution_count": 25,
   "metadata": {},
   "outputs": [],
   "source": [
    "pipe3 = Pipeline(steps=[\n",
    "        ('scale', StandardScaler()),\n",
    "        ('preprocessor', SimpleImputer()),\n",
    "        ('model', gb)])"
   ]
  },
  {
   "cell_type": "code",
   "execution_count": 26,
   "metadata": {},
   "outputs": [
    {
     "data": {
      "text/html": [
       "<style>#sk-container-id-1 {color: black;background-color: white;}#sk-container-id-1 pre{padding: 0;}#sk-container-id-1 div.sk-toggleable {background-color: white;}#sk-container-id-1 label.sk-toggleable__label {cursor: pointer;display: block;width: 100%;margin-bottom: 0;padding: 0.3em;box-sizing: border-box;text-align: center;}#sk-container-id-1 label.sk-toggleable__label-arrow:before {content: \"▸\";float: left;margin-right: 0.25em;color: #696969;}#sk-container-id-1 label.sk-toggleable__label-arrow:hover:before {color: black;}#sk-container-id-1 div.sk-estimator:hover label.sk-toggleable__label-arrow:before {color: black;}#sk-container-id-1 div.sk-toggleable__content {max-height: 0;max-width: 0;overflow: hidden;text-align: left;background-color: #f0f8ff;}#sk-container-id-1 div.sk-toggleable__content pre {margin: 0.2em;color: black;border-radius: 0.25em;background-color: #f0f8ff;}#sk-container-id-1 input.sk-toggleable__control:checked~div.sk-toggleable__content {max-height: 200px;max-width: 100%;overflow: auto;}#sk-container-id-1 input.sk-toggleable__control:checked~label.sk-toggleable__label-arrow:before {content: \"▾\";}#sk-container-id-1 div.sk-estimator input.sk-toggleable__control:checked~label.sk-toggleable__label {background-color: #d4ebff;}#sk-container-id-1 div.sk-label input.sk-toggleable__control:checked~label.sk-toggleable__label {background-color: #d4ebff;}#sk-container-id-1 input.sk-hidden--visually {border: 0;clip: rect(1px 1px 1px 1px);clip: rect(1px, 1px, 1px, 1px);height: 1px;margin: -1px;overflow: hidden;padding: 0;position: absolute;width: 1px;}#sk-container-id-1 div.sk-estimator {font-family: monospace;background-color: #f0f8ff;border: 1px dotted black;border-radius: 0.25em;box-sizing: border-box;margin-bottom: 0.5em;}#sk-container-id-1 div.sk-estimator:hover {background-color: #d4ebff;}#sk-container-id-1 div.sk-parallel-item::after {content: \"\";width: 100%;border-bottom: 1px solid gray;flex-grow: 1;}#sk-container-id-1 div.sk-label:hover label.sk-toggleable__label {background-color: #d4ebff;}#sk-container-id-1 div.sk-serial::before {content: \"\";position: absolute;border-left: 1px solid gray;box-sizing: border-box;top: 0;bottom: 0;left: 50%;z-index: 0;}#sk-container-id-1 div.sk-serial {display: flex;flex-direction: column;align-items: center;background-color: white;padding-right: 0.2em;padding-left: 0.2em;position: relative;}#sk-container-id-1 div.sk-item {position: relative;z-index: 1;}#sk-container-id-1 div.sk-parallel {display: flex;align-items: stretch;justify-content: center;background-color: white;position: relative;}#sk-container-id-1 div.sk-item::before, #sk-container-id-1 div.sk-parallel-item::before {content: \"\";position: absolute;border-left: 1px solid gray;box-sizing: border-box;top: 0;bottom: 0;left: 50%;z-index: -1;}#sk-container-id-1 div.sk-parallel-item {display: flex;flex-direction: column;z-index: 1;position: relative;background-color: white;}#sk-container-id-1 div.sk-parallel-item:first-child::after {align-self: flex-end;width: 50%;}#sk-container-id-1 div.sk-parallel-item:last-child::after {align-self: flex-start;width: 50%;}#sk-container-id-1 div.sk-parallel-item:only-child::after {width: 0;}#sk-container-id-1 div.sk-dashed-wrapped {border: 1px dashed gray;margin: 0 0.4em 0.5em 0.4em;box-sizing: border-box;padding-bottom: 0.4em;background-color: white;}#sk-container-id-1 div.sk-label label {font-family: monospace;font-weight: bold;display: inline-block;line-height: 1.2em;}#sk-container-id-1 div.sk-label-container {text-align: center;}#sk-container-id-1 div.sk-container {/* jupyter's `normalize.less` sets `[hidden] { display: none; }` but bootstrap.min.css set `[hidden] { display: none !important; }` so we also need the `!important` here to be able to override the default hidden behavior on the sphinx rendered scikit-learn.org. See: https://github.com/scikit-learn/scikit-learn/issues/21755 */display: inline-block !important;position: relative;}#sk-container-id-1 div.sk-text-repr-fallback {display: none;}</style><div id=\"sk-container-id-1\" class=\"sk-top-container\"><div class=\"sk-text-repr-fallback\"><pre>Pipeline(steps=[(&#x27;scale&#x27;, StandardScaler()), (&#x27;preprocessor&#x27;, SimpleImputer()),\n",
       "                (&#x27;model&#x27;,\n",
       "                 GradientBoostingRegressor(n_estimators=500, random_state=0))])</pre><b>In a Jupyter environment, please rerun this cell to show the HTML representation or trust the notebook. <br />On GitHub, the HTML representation is unable to render, please try loading this page with nbviewer.org.</b></div><div class=\"sk-container\" hidden><div class=\"sk-item sk-dashed-wrapped\"><div class=\"sk-label-container\"><div class=\"sk-label sk-toggleable\"><input class=\"sk-toggleable__control sk-hidden--visually\" id=\"sk-estimator-id-1\" type=\"checkbox\" ><label for=\"sk-estimator-id-1\" class=\"sk-toggleable__label sk-toggleable__label-arrow\">Pipeline</label><div class=\"sk-toggleable__content\"><pre>Pipeline(steps=[(&#x27;scale&#x27;, StandardScaler()), (&#x27;preprocessor&#x27;, SimpleImputer()),\n",
       "                (&#x27;model&#x27;,\n",
       "                 GradientBoostingRegressor(n_estimators=500, random_state=0))])</pre></div></div></div><div class=\"sk-serial\"><div class=\"sk-item\"><div class=\"sk-estimator sk-toggleable\"><input class=\"sk-toggleable__control sk-hidden--visually\" id=\"sk-estimator-id-2\" type=\"checkbox\" ><label for=\"sk-estimator-id-2\" class=\"sk-toggleable__label sk-toggleable__label-arrow\">StandardScaler</label><div class=\"sk-toggleable__content\"><pre>StandardScaler()</pre></div></div></div><div class=\"sk-item\"><div class=\"sk-estimator sk-toggleable\"><input class=\"sk-toggleable__control sk-hidden--visually\" id=\"sk-estimator-id-3\" type=\"checkbox\" ><label for=\"sk-estimator-id-3\" class=\"sk-toggleable__label sk-toggleable__label-arrow\">SimpleImputer</label><div class=\"sk-toggleable__content\"><pre>SimpleImputer()</pre></div></div></div><div class=\"sk-item\"><div class=\"sk-estimator sk-toggleable\"><input class=\"sk-toggleable__control sk-hidden--visually\" id=\"sk-estimator-id-4\" type=\"checkbox\" ><label for=\"sk-estimator-id-4\" class=\"sk-toggleable__label sk-toggleable__label-arrow\">GradientBoostingRegressor</label><div class=\"sk-toggleable__content\"><pre>GradientBoostingRegressor(n_estimators=500, random_state=0)</pre></div></div></div></div></div></div></div>"
      ],
      "text/plain": [
       "Pipeline(steps=[('scale', StandardScaler()), ('preprocessor', SimpleImputer()),\n",
       "                ('model',\n",
       "                 GradientBoostingRegressor(n_estimators=500, random_state=0))])"
      ]
     },
     "execution_count": 26,
     "metadata": {},
     "output_type": "execute_result"
    }
   ],
   "source": [
    "pipe3.fit(X_train,y_train) # training using 70% of the data"
   ]
  },
  {
   "cell_type": "code",
   "execution_count": 27,
   "metadata": {},
   "outputs": [],
   "source": [
    "predicted_yield3 = pipe3.predict(X_valid) # predicting yield for 30% of the data"
   ]
  },
  {
   "cell_type": "code",
   "execution_count": 28,
   "metadata": {},
   "outputs": [
    {
     "data": {
      "text/plain": [
       "0.9439349773188975"
      ]
     },
     "execution_count": 28,
     "metadata": {},
     "output_type": "execute_result"
    }
   ],
   "source": [
    "pipe3.score(X_train,y_train)"
   ]
  },
  {
   "cell_type": "code",
   "execution_count": 29,
   "metadata": {},
   "outputs": [
    {
     "name": "stdout",
     "output_type": "stream",
     "text": [
      "rmse: 9.20524368014084\n"
     ]
    }
   ],
   "source": [
    "# Model accuracy using root mean square error \n",
    "rmse3 = np.sqrt(mean_squared_error(y_valid, predicted_yield3))  \n",
    "print('rmse:', rmse3)"
   ]
  },
  {
   "cell_type": "code",
   "execution_count": 30,
   "metadata": {},
   "outputs": [
    {
     "name": "stdout",
     "output_type": "stream",
     "text": [
      "R^2: 0.8902876759920894\n"
     ]
    }
   ],
   "source": [
    "# R^2 (coefficient of determination) regression score function: \n",
    "R_3 =r2_score(y_valid, predicted_yield3)\n",
    "print('R^2:', R_3)"
   ]
  },
  {
   "cell_type": "code",
   "execution_count": 31,
   "metadata": {},
   "outputs": [
    {
     "data": {
      "text/plain": [
       "<matplotlib.legend.Legend at 0x12258e4e3a0>"
      ]
     },
     "execution_count": 31,
     "metadata": {},
     "output_type": "execute_result"
    },
    {
     "data": {
      "image/png": "[encoded data removed]",
      "text/plain": [
       "<Figure size 432x288 with 1 Axes>"
      ]
     },
     "metadata": {
      "needs_background": "light"
     },
     "output_type": "display_data"
    }
   ],
   "source": [
    "sn.regplot(x=predicted_yield3, y=y_valid)\n",
    "plt.xlabel('Predicted Yield', color='blue')\n",
    "plt.ylabel('Observed Yield', color ='blue')\n",
    "plt.title(\"GradientBoost\", color='red')\n",
    "plt.grid(alpha=0.2)\n",
    "R_3 = mpatches.Patch(label=\"R2={:04.2f}\".format(R_3))\n",
    "rmse3 = mpatches.Patch(label=\"RMSE={:04.2f}\".format(rmse3))\n",
    "plt.legend(handles=[R_3, rmse3])"
   ]
  },
  {
   "cell_type": "code",
   "execution_count": null,
   "metadata": {},
   "outputs": [],
   "source": []
  },
  {
   "cell_type": "markdown",
   "metadata": {},
   "source": [
    "### Conclusion:\n",
    "\n",
    "* Both RF, XGboost models are performing with >98% accuracy.\n",
    "* Gradientboosting is giving the poor accuracy compared to RF, XGBoost."
   ]
  }
 ],
 "metadata": {
  "kernelspec": {
   "display_name": "Python 3 (ipykernel)",
   "language": "python",
   "name": "python3"
  },
  "language_info": {
   "codemirror_mode": {
    "name": "ipython",
    "version": 3
   },
   "file_extension": ".py",
   "mimetype": "text/x-python",
   "name": "python",
   "nbconvert_exporter": "python",
   "pygments_lexer": "ipython3",
   "version": "3.9.12"
  }
 },
 "nbformat": 4,
 "nbformat_minor": 2
}
